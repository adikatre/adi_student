{
 "cells": [
  {
   "cell_type": "code",
   "execution_count": null,
   "metadata": {
    "vscode": {
     "languageId": "yaml"
    }
   },
   "outputs": [],
   "source": [
    "---\n",
    "layout: post\n",
    "title: Sprint 2 Reflection\n",
    "description: Reflection on Sprint 2\n",
    "permalink: /posts/reflection\n",
    "comments: false\n",
    "---"
   ]
  },
  {
   "cell_type": "markdown",
   "metadata": {},
   "source": [
    "# Blog\n",
    "\n",
    "After completing this unit, I feel significantly more confident in my coding abilities in both Python and JavaScript. I've effectively learned to use variables, various data types, and loops. At the beginning of Unit 3, creating functions in JavaScript was a challenge for me. However, through in-class lessons and my own research on W3Schools, I was able to master this concept. To document my progress and understanding of the Big Ideas in programming, I started a blog where I share my projects and insights. This has not only helped me stay organized but also prepared me for the College Board's expectations and future project-based learning opportunities.\n",
    "\n",
    "# Memory\n",
    "\n",
    "Teaching lessons was an absolute blast! One memorable moment was when I made quizzes for JavaScript, which helped my classmates grasp concepts through interactive examples. Engaging with their insightful questions pushed me to deepen my understanding and think critically to provide clear answers. This collaboration will help me collaborate for CSP and beyond.\n",
    "\n",
    "# Relevancy\n",
    "\n",
    "W3schools has significantly impacted how I write and review code, ensuring it's maintainable and efficient. This newfound emphasis on writing clean code makes my work more relevant and effective in real-world applications. It will make mode code better and more legible in the real world!\n",
    "\n",
    "# Beyond Perfunctory\n",
    "\n",
    "By consciously avoiding reliance on ChatGPT for code writing and instead using it to solidify my fundamental understanding, I made this sprint on Big Ideas distinctly my own. We also made themes that stay in bounds of our notebook and made sure our junk didn't touch mr Mort's junk. We also created fun quizzes that would engage the listeners in our presentations!"
   ]
  },
  {
   "cell_type": "markdown",
   "metadata": {},
   "source": [
    "My Homework and popcorn hacks for all lessons: "
   ]
  },
  {
   "cell_type": "code",
   "execution_count": null,
   "metadata": {},
   "outputs": [],
   "source": [
    "schoolsExpelled = 4\n",
    "\n",
    "if schoolsExpelled < 3:\n",
    "    print(\"You are a good child!\")\n",
    "else:\n",
    "    print(\"You are a bad child!\")"
   ]
  },
  {
   "cell_type": "code",
   "execution_count": null,
   "metadata": {
    "vscode": {
     "languageId": "javascript"
    }
   },
   "outputs": [],
   "source": [
    "let schoolsExpelled = 2;\n",
    "\n",
    "if (schoolsExpelled < 3) {\n",
    "    console.log(\"You are a good child!\");\n",
    "} else {\n",
    "    console.log(\"You are a bad child!\");\n",
    "}"
   ]
  },
  {
   "cell_type": "code",
   "execution_count": null,
   "metadata": {},
   "outputs": [],
   "source": [
    "def is_authorized(person):\n",
    "    authorized_people = [\"Alice\", \"Bob\", \"Charlie\"]\n",
    "    return person in authorized_people\n",
    "\n",
    "# Example usage\n",
    "person = \"Alice\"\n",
    "if is_authorized(person):\n",
    "    print(f\"{person} is authorized to enter the building.\")\n",
    "else:\n",
    "    print(f\"{person} is not authorized to enter the building.\")"
   ]
  },
  {
   "cell_type": "code",
   "execution_count": null,
   "metadata": {
    "vscode": {
     "languageId": "javascript"
    }
   },
   "outputs": [],
   "source": [
    "function isAuthorized(person) {\n",
    "    const authorizedPeople = [\"Alice\", \"Bob\", \"Charlie\"];\n",
    "    return authorizedPeople.includes(person);\n",
    "}\n",
    "\n",
    "// Example usage\n",
    "const person = \"Alice\";\n",
    "if (isAuthorized(person)) {\n",
    "    console.log(`${person} is authorized to enter the building.`);\n",
    "} else {\n",
    "    console.log(`${person} is not authorized to enter the building.`);\n",
    "}"
   ]
  },
  {
   "cell_type": "markdown",
   "metadata": {},
   "source": [
    "Truth Table:\n",
    "\n",
    "|  A  |  B  |  A AND B  |  A OR B  |  NOT A  |  NOT B  |\n",
    "|-----|-----|-----------|----------|---------|---------|\n",
    "|  T  |  T  |     T     |     T    |    F    |    F    |\n",
    "|  T  |  F  |     F     |     T    |    F    |    T    |\n",
    "|  F  |  T  |     F     |     T    |    T    |    F    |\n",
    "|  F  |  F  |     F     |     F    |    T    |    T    |"
   ]
  },
  {
   "cell_type": "code",
   "execution_count": null,
   "metadata": {
    "vscode": {
     "languageId": "javascript"
    }
   },
   "outputs": [],
   "source": [
    "function subtractNumbers(a, b) {\n",
    "    return a - b; // Subtracting two numbers\n",
    "}\n",
    "\n",
    "// Example usage\n",
    "const result = subtractNumbers(10, 5);\n",
    "console.log(result);  // Output: 5"
   ]
  },
  {
   "cell_type": "code",
   "execution_count": null,
   "metadata": {},
   "outputs": [],
   "source": [
    "def subtract_numbers(a, b):\n",
    "    return a - b  # Return the result of subtracting b from a\n",
    "\n",
    "# Example usage\n",
    "result = subtract_numbers(10, 5)\n",
    "print(result)  # Output: 5"
   ]
  },
  {
   "cell_type": "code",
   "execution_count": null,
   "metadata": {},
   "outputs": [],
   "source": [
    "def multiply_and_mod(a, b, mod):\n",
    "    product = a * b  # multiply a and b\n",
    "    result = product % mod  # take remainder\n",
    "    return result\n",
    "\n",
    "# Example usage:\n",
    "print(multiply_and_mod(5, 3, 4))  # Output: 3"
   ]
  },
  {
   "cell_type": "code",
   "execution_count": null,
   "metadata": {
    "vscode": {
     "languageId": "javascript"
    }
   },
   "outputs": [],
   "source": [
    "function multiplyAndMod(a, b, mod) {\n",
    "    const product = a * b;  // multiply a and b\n",
    "    const result = product % mod;  // take remainder\n",
    "    return result;\n",
    "}\n",
    "\n",
    "// Example usage:\n",
    "console.log(multiplyAndMod(5, 3, 4));  // Output: 3"
   ]
  },
  {
   "cell_type": "code",
   "execution_count": null,
   "metadata": {
    "vscode": {
     "languageId": "javascript"
    }
   },
   "outputs": [],
   "source": [
    "// addition of two numbers divides the result by 4\n",
    "function addition() {\n",
    "    // variable 'a' with the value 8\n",
    "    let a = 8;\n",
    "\n",
    "    // variable 'b' with the value 12\n",
    "    let b = 12;\n",
    "\n",
    "    // Calculate the sum of 'a' and 'b' divided by 4\n",
    "    let result = (a + b) / 4;\n",
    "\n",
    "    // Output\n",
    "    console.log(result);\n",
    "}\n",
    "\n",
    "addition();"
   ]
  },
  {
   "cell_type": "code",
   "execution_count": null,
   "metadata": {
    "vscode": {
     "languageId": "javascript"
    }
   },
   "outputs": [],
   "source": [
    "// addition of two numbers divides the result by 4\n",
    "function addition() {\n",
    "    // variable 'a' with the value 8\n",
    "    let a = 8;\n",
    "\n",
    "    // variable 'b' with the value 12\n",
    "    let b = 12;\n",
    "\n",
    "    // Calculate the sum of 'a' and 'b' divided by 4\n",
    "    let result = (a + b) / 4;\n",
    "\n",
    "    // Output\n",
    "    console.log(result);\n",
    "}\n",
    "\n",
    "addition();  // Output: 5"
   ]
  },
  {
   "cell_type": "code",
   "execution_count": null,
   "metadata": {
    "vscode": {
     "languageId": "javascript"
    }
   },
   "outputs": [],
   "source": [
    "function calculator() {\n",
    "    // Predefined numbers\n",
    "    let num1 = 10;\n",
    "    let num2 = 5;\n",
    "\n",
    "    // Perform calculations\n",
    "    let addition = num1 + num2;\n",
    "    let subtraction = num1 - num2;\n",
    "    let multiplication = num1 * num2;\n",
    "    let division = num1 / num2;\n",
    "    let exponentiation = num1 ** num2;  // Or use Math.pow(num1, num2)\n",
    "\n",
    "    // Display results\n",
    "    console.log(`Addition: ${num1} + ${num2} = ${addition}`);\n",
    "    console.log(`Subtraction: ${num1} - ${num2} = ${subtraction}`);\n",
    "    console.log(`Multiplication: ${num1} * ${num2} = ${multiplication}`);\n",
    "    console.log(`Division: ${num1} / ${num2} = ${division}`);\n",
    "    console.log(`Exponentiation: ${num1} ** ${num2} = ${exponentiation}`);\n",
    "}\n",
    "\n",
    "// Call the function\n",
    "calculator();"
   ]
  },
  {
   "cell_type": "code",
   "execution_count": null,
   "metadata": {},
   "outputs": [],
   "source": [
    "def calculator(a, b):\n",
    "    # Predefined numbers\n",
    "    num1 = 10\n",
    "    num2 = 5\n",
    "\n",
    "    # Perform calculations\n",
    "    addition = num1 + num2\n",
    "    subtraction = num1 - num2\n",
    "    multiplication = num1 * num2\n",
    "    division = num1 / num2\n",
    "    exponentiation = num1 ** num2\n",
    "\n",
    "    # Display results\n",
    "    print(f\"Addition: {num1} + {num2} = {addition}\")\n",
    "    print(f\"Subtraction: {num1} - {num2} = {subtraction}\")\n",
    "    print(f\"Multiplication: {num1} * {num2} = {multiplication}\")\n",
    "    print(f\"Division: {num1} / {num2} = {division}\")\n",
    "    print(f\"Exponentiation: {num1} ** {num2} = {exponentiation}\")\n",
    "\n",
    "# Call the function\n",
    "calculator()"
   ]
  },
  {
   "cell_type": "code",
   "execution_count": null,
   "metadata": {
    "vscode": {
     "languageId": "javascript"
    }
   },
   "outputs": [],
   "source": [
    "// JSON data as a string\n",
    "let data_str = `\n",
    "{\n",
    "    \"quiz\": {\n",
    "        \"sport\": {\n",
    "            \"q1\": {\n",
    "                \"question\": \"Which one is correct team name in NBA?\",\n",
    "                \"options\": [\n",
    "                    \"New York Bulls\",\n",
    "                    \"Los Angeles Kings\",\n",
    "                    \"Golden State Warriors\",\n",
    "                    \"Huston Rocket\"\n",
    "                ],\n",
    "                \"answer\": \"Huston Rocket\"\n",
    "            }\n",
    "        },\n",
    "        \"maths\": {\n",
    "            \"q1\": {\n",
    "                \"question\": \"5 + 7 = ?\",\n",
    "                \"options\": [\"10\", \"11\", \"12\", \"13\"],\n",
    "                \"answer\": \"12\"\n",
    "            },\n",
    "            \"q2\": {\n",
    "                \"question\": \"12 - 8 = ?\",\n",
    "                \"options\": [\"1\", \"2\", \"3\", \"4\"],\n",
    "                \"answer\": \"4\"\n",
    "            }\n",
    "        }\n",
    "    }\n",
    "}\n",
    "`;\n",
    "\n",
    "// Parse JSON data\n",
    "let data = JSON.parse(data_str);\n",
    "\n",
    "// Edit the JSON data\n",
    "data.quiz.sport.q1.question = \"Which is the correct team name in the NBA?\";\n",
    "data.quiz.sport.q1.options[0] = \"Chicago Bulls\";\n",
    "data.quiz.sport.q1.options[3] = \"Houston Rockets\";\n",
    "\n",
    "// Use different variable types\n",
    "let stringVar = data.quiz.sport.q1.question;\n",
    "let intVar = parseInt(data.quiz.maths.q1.answer);\n",
    "let floatVar = 3.14;\n",
    "let arrayVar = data.quiz.maths.q1.options;\n",
    "let objectVar = data.quiz.maths;\n",
    "let boolVar = true;\n",
    "\n",
    "// Print edited data\n",
    "console.log(JSON.stringify(data, null, 2));"
   ]
  },
  {
   "cell_type": "code",
   "execution_count": null,
   "metadata": {},
   "outputs": [],
   "source": [
    "import json\n",
    "\n",
    "# JSON data as a string\n",
    "data_str = '''\n",
    "{\n",
    "    \"quiz\": {\n",
    "        \"sport\": {\n",
    "            \"q1\": {\n",
    "                \"question\": \"Which one is correct team name in NBA?\",\n",
    "                \"options\": [\n",
    "                    \"New York Bulls\",\n",
    "                    \"Los Angeles Kings\",\n",
    "                    \"Golden State Warriors\",\n",
    "                    \"Huston Rocket\"\n",
    "                ],\n",
    "                \"answer\": \"Huston Rocket\"\n",
    "            }\n",
    "        },\n",
    "        \"maths\": {\n",
    "            \"q1\": {\n",
    "                \"question\": \"5 + 7 = ?\",\n",
    "                \"options\": [\"10\", \"11\", \"12\", \"13\"],\n",
    "                \"answer\": \"12\"\n",
    "            },\n",
    "            \"q2\": {\n",
    "                \"question\": \"12 - 8 = ?\",\n",
    "                \"options\": [\"1\", \"2\", \"3\", \"4\"],\n",
    "                \"answer\": \"4\"\n",
    "            }\n",
    "        }\n",
    "    }\n",
    "}\n",
    "'''\n",
    "\n",
    "# Parse JSON data\n",
    "data = json.loads(data_str)\n",
    "\n",
    "# Edit the JSON data\n",
    "data['quiz']['sport']['q1']['question'] = \"Which is the correct team name in the NBA?\"\n",
    "data['quiz']['sport']['q1']['options'][0] = \"Chicago Bulls\"\n",
    "data['quiz']['sport']['q1']['options'][3] = \"Houston Rockets\"\n",
    "\n",
    "# Use different variable types\n",
    "string_var = data['quiz']['sport']['q1']['question']\n",
    "int_var = int(data['quiz']['maths']['q1']['answer'])\n",
    "float_var = 3.14\n",
    "list_var = data['quiz']['maths']['q1']['options']\n",
    "dict_var = data['quiz']['maths']\n",
    "bool_var = True\n",
    "\n",
    "# Print edited data\n",
    "print(json.dumps(data, indent=2))\n"
   ]
  },
  {
   "cell_type": "code",
   "execution_count": null,
   "metadata": {
    "vscode": {
     "languageId": "javascript"
    }
   },
   "outputs": [],
   "source": [
    "// Get user input and store it in 'yesno'\n",
    "let yesno = prompt(\"Is Aaditya a monkey? (yes/no)\");\n",
    "\n",
    "// If the response is \"yes\"\n",
    "if (yesno === \"yes\") {\n",
    "    console.log(\"I agree! Kanhay is in fact a monkey!!\");\n",
    "    console.log(true); // Print 'true'\n",
    "}\n",
    "// If the response is \"no\"\n",
    "else if (yesno === \"no\") {\n",
    "    console.log(\"I disagree! Kanhay is a big fat monkey\");\n",
    "    console.log(false); // Print 'false'\n",
    "}\n",
    "// For any other input\n",
    "else {\n",
    "    console.log(\"Invalid input.\");\n",
    "}"
   ]
  },
  {
   "cell_type": "code",
   "execution_count": null,
   "metadata": {},
   "outputs": [],
   "source": [
    "import json\n",
    "\n",
    "beetle = { # dictionary\n",
    "    \"name\": \"Volkswagen Beetle\",\n",
    "    \"performance\": { #nested dictionary\n",
    "        \"engine\": \"2.0-liter turbocharged inline-4\",\n",
    "        \"horsepower\": \"174 horsepower\",\n",
    "        \"acceleration\": \"0-60 in 10.7s\",\n",
    "        \"top speed\": \"120 mph\"\n",
    "    },\n",
    "    \"features\": [\"rearview camera\", \"blind-spot monitoring\", \"rear cross-traffic alert\", \"stability and traction control\", \"multiple airbags\"], #array\n",
    "    \"pricing\": {\n",
    "        \"MSRP\": 5,# int\n",
    "        \"production_run\": \"temporarily paused\",\n",
    "        \"rarity\": \"supa doopa rare!\"\n",
    "    }\n",
    "}\n",
    "\n",
    "# Default formatting\n",
    "json_string_1 = json.dumps(beetle)\n",
    "print(json_string_1)\n",
    "\n",
    "#Indent formatting with four spaces\n",
    "json_string_2 = json.dumps(beetle, indent=4)\n",
    "print(json_string_2)"
   ]
  }
 ],
 "metadata": {
  "language_info": {
   "name": "python"
  }
 },
 "nbformat": 4,
 "nbformat_minor": 2
}
